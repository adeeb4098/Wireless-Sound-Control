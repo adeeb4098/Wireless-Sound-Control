{
 "cells": [
  {
   "cell_type": "code",
   "execution_count": 1,
   "metadata": {},
   "outputs": [],
   "source": [
    "import cv2\n",
    "import mediapipe as mp\n",
    "import math\n",
    "import numpy as np\n",
    "from ctypes import cast, POINTER\n",
    "from comtypes import CLSCTX_ALL\n",
    "from pycaw.pycaw import AudioUtilities, IAudioEndpointVolume\n",
    "cap = cv2.VideoCapture(0)\n",
    "\n",
    "pTime = 0\n",
    "cTime = 0\n",
    "mpHands =  mp.solutions.hands\n",
    "hands = mpHands.Hands()\n",
    "mpDraws = mp.solutions.drawing_utils\n",
    "devices = AudioUtilities.GetSpeakers()\n",
    "interface = devices.Activate(IAudioEndpointVolume._iid_, CLSCTX_ALL, None)\n",
    "volume = cast(interface, POINTER(IAudioEndpointVolume))\n",
    "\n",
    "volRange = volume.GetVolumeRange()\n",
    "minVol = volRange[0]\n",
    "maxVol = volRange[1]\n",
    "while True:\n",
    "    success , img = cap.read()\n",
    "    imgRGB = cv2.cvtColor(img , cv2.COLOR_BGR2RGB)\n",
    "    results = hands.process(imgRGB)\n",
    "    if results.multi_hand_landmarks:\n",
    "        for handLms in results.multi_hand_landmarks:\n",
    "            lmList =[]\n",
    "            for id , lm in enumerate(handLms.landmark):\n",
    "                h , w , c = img.shape\n",
    "                cx , cy = int(lm.x*w) ,int(lm.y*h)\n",
    "                lmList.append([id, cx, cy])\n",
    "                mpDraws.draw_landmarks(img , handLms , mpHands.HAND_CONNECTIONS)\n",
    "               \n",
    "\n",
    "            if lmList:    \n",
    "                x1 , y1 = lmList[4][1] , lmList[4][2]\n",
    "                x2 , y2 = lmList[8][1] , lmList[8][2]\n",
    "                cv2.circle(img , (x1 ,y1) ,15 , (255,0,0), cv2.FILLED)\n",
    "                cv2.circle(img , (x2 ,y2) ,15 , (255,0,0), cv2.FILLED)\n",
    "                cv2.line(img, (x1,y1), (x2,y2), (0,255,0) , 4)\n",
    "                z1 = (x1 + x2)//2\n",
    "                z2 = (y1 + y2)//2\n",
    "                cv2.circle(img, (z1,z2), 15, (255,0,0), cv2.FILLED )\n",
    "                length = math.hypot(x2- x1, y2- y1)\n",
    "                if length < 50:\n",
    "                    cv2.circle(img, (z1 , z2), 15, (0,0,128) ,cv2.FILLED)\n",
    "                \n",
    "            vol = np.interp(length, [50 ,300] ,[minVol ,maxVol])\n",
    "            volBar = np.interp(length, [50,300] ,[400,150])\n",
    "            volPer = np.interp(length, [50,300] , [0,100])\n",
    "            volume.SetMasterVolumeLevel(vol,None)\n",
    "            \n",
    "            cv2.rectangle(img ,(50,150) ,(85,400) ,(62.7,12.5,94.1) , 4)\n",
    "            cv2.rectangle(img ,(50,int(volBar)) , (85,400) ,(62.7,12.5,94.1) , cv2.FILLED)\n",
    "            cv2.putText(img, str(int(volPer)), (40,100), cv2.FONT_HERSHEY_PLAIN, 4, (62.7,12.5,94.1), 4)\n",
    "            \n",
    "            \n",
    "    \n",
    "\n",
    "    cv2.imshow(\"Image\", img)\n",
    "    cv2.waitKey(1)"
   ]
  }
 ],
 "metadata": {
  "interpreter": {
   "hash": "33c99ce92ae57a37c90157b7c35934b668ba43f0729fdf7df53b30c6721ba8f2"
  },
  "kernelspec": {
   "display_name": "Python 3.9.13 64-bit (windows store)",
   "language": "python",
   "name": "python3"
  },
  "language_info": {
   "codemirror_mode": {
    "name": "ipython",
    "version": 3
   },
   "file_extension": ".py",
   "mimetype": "text/x-python",
   "name": "python",
   "nbconvert_exporter": "python",
   "pygments_lexer": "ipython3",
   "version": "3.9.13"
  },
  "orig_nbformat": 4
 },
 "nbformat": 4,
 "nbformat_minor": 2
}
